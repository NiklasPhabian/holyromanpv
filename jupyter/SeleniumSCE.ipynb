{
 "cells": [
  {
   "cell_type": "code",
   "execution_count": 1,
   "metadata": {},
   "outputs": [],
   "source": [
    "from seleniumwire import webdriver\n",
    "from selenium.webdriver.chrome.options import Options\n",
    "import pandas\n",
    "import requests\n",
    "import json"
   ]
  },
  {
   "cell_type": "code",
   "execution_count": 2,
   "metadata": {},
   "outputs": [],
   "source": [
    "username = 'griessbaum@gmail.com'\n",
    "password = '6SDuUqH96G5zP$Z'\n",
    "account = '50348745'"
   ]
  },
  {
   "cell_type": "markdown",
   "metadata": {},
   "source": [
    "# Manual"
   ]
  },
  {
   "cell_type": "code",
   "execution_count": 3,
   "metadata": {},
   "outputs": [],
   "source": [
    "options = Options()\n",
    "options.headless = False\n",
    "driver = webdriver.Chrome(options=options, \n",
    "                          seleniumwire_options={'verify_ssl': False})"
   ]
  },
  {
   "cell_type": "code",
   "execution_count": 4,
   "metadata": {
    "scrolled": true
   },
   "outputs": [],
   "source": [
    "driver.get('http://www.sce.com/mysce/login')"
   ]
  },
  {
   "cell_type": "code",
   "execution_count": 5,
   "metadata": {},
   "outputs": [],
   "source": [
    "#username_field = driver.find_element_by_id('userIDorEmail')\n",
    "username_field = driver.find_element_by_id('user ID or Email')\n",
    "password_field = driver.find_element_by_id('passwordLogin')\n",
    "\n",
    "username_field.clear()\n",
    "password_field.clear()\n",
    "username_field.send_keys(username)\n",
    "password_field.send_keys(password)"
   ]
  },
  {
   "cell_type": "code",
   "execution_count": 6,
   "metadata": {},
   "outputs": [],
   "source": [
    "buttons = driver.find_elements_by_class_name('sceButton__sceBtnSmPrimary__1SQ_u')\n",
    "submit = buttons[-1]\n",
    "submit.click()"
   ]
  },
  {
   "cell_type": "code",
   "execution_count": 7,
   "metadata": {},
   "outputs": [
    {
     "data": {
      "text/plain": [
       "False"
      ]
     },
     "execution_count": 7,
     "metadata": {},
     "output_type": "execute_result"
    }
   ],
   "source": [
    "fail_str = 'Sorry, your email and/or password was incorrect'\n",
    "fail_str in driver.page_source"
   ]
  },
  {
   "cell_type": "code",
   "execution_count": 8,
   "metadata": {
    "scrolled": true
   },
   "outputs": [],
   "source": [
    "try:\n",
    "    driver.find_element_by_id('Combined-Shape').click()    \n",
    "except:\n",
    "    print('no popup')"
   ]
  },
  {
   "cell_type": "code",
   "execution_count": 9,
   "metadata": {},
   "outputs": [],
   "source": [
    "driver.get('https://www.sce.com/mysce/myaccount')"
   ]
  },
  {
   "cell_type": "code",
   "execution_count": 10,
   "metadata": {},
   "outputs": [],
   "source": [
    "driver.find_element_by_id('ThisPeriod').click()"
   ]
  },
  {
   "cell_type": "code",
   "execution_count": 11,
   "metadata": {},
   "outputs": [],
   "source": [
    "driver.find_element_by_id('Hourly').click()"
   ]
  },
  {
   "cell_type": "code",
   "execution_count": 12,
   "metadata": {},
   "outputs": [],
   "source": [
    "driver.find_element_by_id('openCalender').click()"
   ]
  },
  {
   "cell_type": "code",
   "execution_count": 13,
   "metadata": {
    "scrolled": true
   },
   "outputs": [
    {
     "data": {
      "text/plain": [
       "{'Host': 'prodms.dms.sce.com',\n",
       " 'Connection': 'keep-alive',\n",
       " 'Accept': 'application/json, text/plain, */*',\n",
       " 'X-IS-SECURE': 'false',\n",
       " 'oktaSessionId': '102Fu_bhDmMRnG27bGIw9AGRw',\n",
       " 'oktaUid': '00u2jpjoijDCnMNev1t7',\n",
       " 'User-Agent': 'Mozilla/5.0 (X11; Linux x86_64) AppleWebKit/537.36 (KHTML, like Gecko) Chrome/89.0.4389.114 Safari/537.36',\n",
       " 'X-Request-ID': 'e0d4b8f9-e24d-45f1-a6e7-3ab072749c91',\n",
       " 'Content-Type': 'application/json',\n",
       " 'Origin': 'https://www.sce.com',\n",
       " 'Sec-Fetch-Site': 'same-site',\n",
       " 'Sec-Fetch-Mode': 'cors',\n",
       " 'Sec-Fetch-Dest': 'empty',\n",
       " 'Referer': 'https://www.sce.com/',\n",
       " 'Accept-Encoding': 'gzip, deflate, br',\n",
       " 'Accept-Language': 'en-US,en;q=0.9',\n",
       " 'Cookie': 's_fid=1F39CB7E85851A9D-2FAA627757CB93A0; s_cc=true; s_vi=[CS]v1|3038A0018E4F6B3B-600013576EA5697B[CE]; __DMS-Token=16B04D990D7A4D5EB5FB54B367BA8BB2; mpt_initial_referer=https%3A%2F%2Fwww.sce.com%2F|session; QuantumMetricSessionID=22637d060f7b21865627924c20269a6d; QuantumMetricUserID=d7a2a8e6f9901bdf9d53e3c439315ccb; userIDKey=6vYdhKphuyVtQgNvyXfiuQ==; sessionIDKey=brJYRDCxj4Dv5BdcTrJjvNiG147dFrWzmSmHGcTH95Q=; at_check=true; mpt_rate_comparator_50018=43.328317602164915|1620626713269; mpt_vid=161803471327056005|1681106713270; mpt_recording_to_buffer_50018=1|session_timeout; mpt_conditional_import_50018=1|session_timeout; mpt_tracking_active_50018=1|session_timeout; mbox=session#e7d709620e4d4a009a01277b9b6c6c4e#1618036568|PC#e7d709620e4d4a009a01277b9b6c6c4e.35_0#1681279520; RT=\"z=1&dm=sce.com&si=d5402d32-f603-4fbd-be1b-621187f74b58&ss=knbc2rzn&sl=4&tt=afq&bcn=%2F%2F173e255d.akstat.io%2F&obo=1\"; _4c_=%7B%22_4c_s_%22%3A%22jVRNb9s4EP0rgQ49RTZJkRQZIFjY2fSwaFp4mz0bFEnZhD8okHTUNPB%2F36EtK862h%2FVBnnmaeRq%2BmeFb0a%2FtvrjDHAtU0ZqQGqPbYmNfY3H3VgRn8t9LcVfgWmikiSopFbakhONSNQyX2lAsNG%2BQYk1xW%2FzIXIQJjLjEmMjjbaG7geOt0N7YzCUnmE5w2UbISD8BAUIEdhe8Oei0TK9djuttcxPNBl4Y%2B%2BK0XfbOpPWJ4BQ%2BoGvrVuuUYSROcBeyA1bv9sb3Y5rk6B0cs4TkgDbB99HmxId18Dt7IySgHmQovrj94Qc4wbY2hFMMeNGlXGPUdqL9bgBAuDO2JIC4ODsk0Dc5rZI15zw9HC6bH%2Bzofg523KmQdjZdPhUge5AOvMXTzXcbo%2FP7mwfvNy7DhPCqNoijtm4IFpxxUktCNUGES8XNOe0fOOB7jqkVUcLyVkqEG9NKwypbaVrJCjOtczcXB7VPh92TTcHp4aOgxuZcSPLJg%2FU1Ny6PCAXj29Pz38v54%2Bzh21dA1il18W46jbsTQ5wMak2baYxTcIaGA%2B1ktfWN2k7x9K%2FvJZkQMkHll%2FkCT6OQlDBeIVJTRKs%2FZov5Pf7UOnOPP1fyYV4%2FCiYYnsk%2FS%2FJ5NoOD16x%2BmMtqhj7NFo%2F3eQ4OYXtVTd%2F3YyG7V7DgqbT2h32CWLvPZ%2BlC1mzrtdpmrWBHbotdp9L6denM0HqGEBbXeKdWp%2FEelwkRwSU88HXUi4N8H64CcUVqxDhCDOKeg1utbADN1z6PzHNQxmWF1DbPNiwrDKKx0a1yTSZPMHib5LsRPg57iAUmsIQEtINuJdBAcIry73hu2Wkt6cdoVFf01%2BgXN14EVlNMmC0FsaSkrMWlFA0tQUHWqIoKpXgxUqKKM4LRSAnIwHheuNLux0KqD4XginL%2BayFt01wqicV1ApKEyd%2Bc09j2kiCFsrVuRNloZEoKvSklb22JiYU7rCZUtLb4P0XkLpwpr1rxfvVBQ2tZQ5zr0hA4tppyVn2MzUiOvVCq4rfvQz9SXV7U1X%2BpADkej%2F8C%22%7D; s_sq=sceproduction.global%3D%2526pid%253Dsmart%252520connect-usage%252520details-hourly%2526pidt%253D1%2526oid%253Dfunction%252528%252529%25257B%25257D%2526oidt%253D2%2526ot%253DSUBMIT; qmexp=1618036525586'}"
      ]
     },
     "execution_count": 13,
     "metadata": {},
     "output_type": "execute_result"
    }
   ],
   "source": [
    "for request in driver.requests:\n",
    "    if 'https://prodms.dms.sce.com/myaccount/v1/usage' in request.url:        \n",
    "        headers = request.headers\n",
    "dict(headers)"
   ]
  },
  {
   "cell_type": "code",
   "execution_count": 14,
   "metadata": {},
   "outputs": [
    {
     "name": "stdout",
     "output_type": "stream",
     "text": [
      "https://prodms.dms.sce.com/myaccount/v1/usage?contractNumber=8003076658&period=60&usageDemandIndicator=usage&startDate=2021-02-21%2012:01&endDate=2021-02-21%2012:01&numberOfDays=0&lastBillEndDate=2021-03-20&nemFlag=N&statementNumber=NA\n"
     ]
    }
   ],
   "source": [
    "start = '2021-02-21'\n",
    "end =  start\n",
    "account = 50348745\n",
    "period = 60\n",
    "\n",
    "trunk = 'https://prodms.dms.sce.com/myaccount/v1/usage'\n",
    "query = '?'\n",
    "#query += 'serviceAccountNumber={account}&'\n",
    "query += 'contractNumber=8003076658&'\n",
    "query += 'period={period}&'\n",
    "query += 'usageDemandIndicator=usage&'\n",
    "query += 'startDate={start}%2012:01&'\n",
    "query += 'endDate={end}%2012:01&'\n",
    "query += 'numberOfDays=0&'\n",
    "query += 'lastBillEndDate=2021-03-20&'\n",
    "query += 'nemFlag=N&'\n",
    "query += 'statementNumber=NA'\n",
    "query = query.format(start=start, end=end, \n",
    "                     account=account, period=period)\n",
    "\n",
    "url = trunk + query\n",
    "print(url)"
   ]
  },
  {
   "cell_type": "code",
   "execution_count": 15,
   "metadata": {},
   "outputs": [],
   "source": [
    "session = requests.Session()\n",
    "session.headers = dict(headers)\n",
    "ret = session.options(url)"
   ]
  },
  {
   "cell_type": "code",
   "execution_count": 16,
   "metadata": {},
   "outputs": [],
   "source": [
    "ret = session.get(url)"
   ]
  },
  {
   "cell_type": "code",
   "execution_count": 17,
   "metadata": {
    "scrolled": true
   },
   "outputs": [
    {
     "data": {
      "text/html": [
       "<div>\n",
       "<style scoped>\n",
       "    .dataframe tbody tr th:only-of-type {\n",
       "        vertical-align: middle;\n",
       "    }\n",
       "\n",
       "    .dataframe tbody tr th {\n",
       "        vertical-align: top;\n",
       "    }\n",
       "\n",
       "    .dataframe thead th {\n",
       "        text-align: right;\n",
       "    }\n",
       "</style>\n",
       "<table border=\"1\" class=\"dataframe\">\n",
       "  <thead>\n",
       "    <tr style=\"text-align: right;\">\n",
       "      <th></th>\n",
       "      <th>power</th>\n",
       "    </tr>\n",
       "    <tr>\n",
       "      <th>timestamp</th>\n",
       "      <th></th>\n",
       "    </tr>\n",
       "  </thead>\n",
       "  <tbody>\n",
       "    <tr>\n",
       "      <th>2021-02-21 00:00:00</th>\n",
       "      <td>0.2197</td>\n",
       "    </tr>\n",
       "    <tr>\n",
       "      <th>2021-02-21 01:00:00</th>\n",
       "      <td>0.1496</td>\n",
       "    </tr>\n",
       "    <tr>\n",
       "      <th>2021-02-21 02:00:00</th>\n",
       "      <td>0.1096</td>\n",
       "    </tr>\n",
       "    <tr>\n",
       "      <th>2021-02-21 03:00:00</th>\n",
       "      <td>0.1397</td>\n",
       "    </tr>\n",
       "    <tr>\n",
       "      <th>2021-02-21 04:00:00</th>\n",
       "      <td>0.0996</td>\n",
       "    </tr>\n",
       "    <tr>\n",
       "      <th>2021-02-21 05:00:00</th>\n",
       "      <td>0.1296</td>\n",
       "    </tr>\n",
       "    <tr>\n",
       "      <th>2021-02-21 06:00:00</th>\n",
       "      <td>0.0996</td>\n",
       "    </tr>\n",
       "    <tr>\n",
       "      <th>2021-02-21 07:00:00</th>\n",
       "      <td>0.0896</td>\n",
       "    </tr>\n",
       "    <tr>\n",
       "      <th>2021-02-21 08:00:00</th>\n",
       "      <td>0.0696</td>\n",
       "    </tr>\n",
       "    <tr>\n",
       "      <th>2021-02-21 09:00:00</th>\n",
       "      <td>0.0696</td>\n",
       "    </tr>\n",
       "    <tr>\n",
       "      <th>2021-02-21 10:00:00</th>\n",
       "      <td>0.1097</td>\n",
       "    </tr>\n",
       "    <tr>\n",
       "      <th>2021-02-21 11:00:00</th>\n",
       "      <td>0.1998</td>\n",
       "    </tr>\n",
       "    <tr>\n",
       "      <th>2021-02-21 12:00:00</th>\n",
       "      <td>0.1699</td>\n",
       "    </tr>\n",
       "    <tr>\n",
       "      <th>2021-02-21 13:00:00</th>\n",
       "      <td>0.4799</td>\n",
       "    </tr>\n",
       "    <tr>\n",
       "      <th>2021-02-21 14:00:00</th>\n",
       "      <td>0.2496</td>\n",
       "    </tr>\n",
       "    <tr>\n",
       "      <th>2021-02-21 15:00:00</th>\n",
       "      <td>0.0596</td>\n",
       "    </tr>\n",
       "    <tr>\n",
       "      <th>2021-02-21 16:00:00</th>\n",
       "      <td>0.1097</td>\n",
       "    </tr>\n",
       "    <tr>\n",
       "      <th>2021-02-21 17:00:00</th>\n",
       "      <td>0.1497</td>\n",
       "    </tr>\n",
       "    <tr>\n",
       "      <th>2021-02-21 18:00:00</th>\n",
       "      <td>0.4797</td>\n",
       "    </tr>\n",
       "    <tr>\n",
       "      <th>2021-02-21 19:00:00</th>\n",
       "      <td>0.7498</td>\n",
       "    </tr>\n",
       "    <tr>\n",
       "      <th>2021-02-21 20:00:00</th>\n",
       "      <td>0.4898</td>\n",
       "    </tr>\n",
       "    <tr>\n",
       "      <th>2021-02-21 21:00:00</th>\n",
       "      <td>0.3798</td>\n",
       "    </tr>\n",
       "    <tr>\n",
       "      <th>2021-02-21 22:00:00</th>\n",
       "      <td>0.3299</td>\n",
       "    </tr>\n",
       "    <tr>\n",
       "      <th>2021-02-21 23:00:00</th>\n",
       "      <td>0.2400</td>\n",
       "    </tr>\n",
       "  </tbody>\n",
       "</table>\n",
       "</div>"
      ],
      "text/plain": [
       "                      power\n",
       "timestamp                  \n",
       "2021-02-21 00:00:00  0.2197\n",
       "2021-02-21 01:00:00  0.1496\n",
       "2021-02-21 02:00:00  0.1096\n",
       "2021-02-21 03:00:00  0.1397\n",
       "2021-02-21 04:00:00  0.0996\n",
       "2021-02-21 05:00:00  0.1296\n",
       "2021-02-21 06:00:00  0.0996\n",
       "2021-02-21 07:00:00  0.0896\n",
       "2021-02-21 08:00:00  0.0696\n",
       "2021-02-21 09:00:00  0.0696\n",
       "2021-02-21 10:00:00  0.1097\n",
       "2021-02-21 11:00:00  0.1998\n",
       "2021-02-21 12:00:00  0.1699\n",
       "2021-02-21 13:00:00  0.4799\n",
       "2021-02-21 14:00:00  0.2496\n",
       "2021-02-21 15:00:00  0.0596\n",
       "2021-02-21 16:00:00  0.1097\n",
       "2021-02-21 17:00:00  0.1497\n",
       "2021-02-21 18:00:00  0.4797\n",
       "2021-02-21 19:00:00  0.7498\n",
       "2021-02-21 20:00:00  0.4898\n",
       "2021-02-21 21:00:00  0.3798\n",
       "2021-02-21 22:00:00  0.3299\n",
       "2021-02-21 23:00:00  0.2400"
      ]
     },
     "execution_count": 17,
     "metadata": {},
     "output_type": "execute_result"
    }
   ],
   "source": [
    "data = ret.json()\n",
    "hourly = data['viewUsageDetails']\n",
    "df = pandas.DataFrame(hourly, columns=['startDateTime', 'value'])\n",
    "df.rename(columns={'startDateTime': 'timestamp', 'value': 'power'}, inplace=True)\n",
    "df.power = pandas.to_numeric(df.power)\n",
    "df.timestamp = pandas.to_datetime(df.timestamp)\n",
    "df.set_index('timestamp', inplace=True)\n",
    "df"
   ]
  },
  {
   "cell_type": "code",
   "execution_count": 18,
   "metadata": {},
   "outputs": [
    {
     "data": {
      "text/plain": [
       "{'totalUsage': '0.22387914 kWh',\n",
       " 'averageUsageQuantity': 0.0,\n",
       " 'errorResponse': {'errorStatus': False,\n",
       "  'errorCode': None,\n",
       "  'errorMessage': None},\n",
       " 'viewUsageDetails': [{'dataDelayedIndicator': False,\n",
       "   'outageIndicator': 'N',\n",
       "   'peakIndicator': 'OFF',\n",
       "   'value': '0.2197',\n",
       "   'startDateTime': '2021-02-21 00:00',\n",
       "   'endDateTime': '2021-02-21 01:00',\n",
       "   'status': 'ACTUAL',\n",
       "   'minIntervalLength': '15',\n",
       "   'seasonIndicator': 'WIN-10-05',\n",
       "   'frequencyField': '60',\n",
       "   'serviceMeasurementTypeCode': 'KWH_DEL'},\n",
       "  {'dataDelayedIndicator': False,\n",
       "   'outageIndicator': 'N',\n",
       "   'peakIndicator': 'OFF',\n",
       "   'value': '0.1496',\n",
       "   'startDateTime': '2021-02-21 01:00',\n",
       "   'endDateTime': '2021-02-21 02:00',\n",
       "   'status': 'ACTUAL',\n",
       "   'minIntervalLength': '15',\n",
       "   'seasonIndicator': 'WIN-10-05',\n",
       "   'frequencyField': '60',\n",
       "   'serviceMeasurementTypeCode': 'KWH_DEL'},\n",
       "  {'dataDelayedIndicator': False,\n",
       "   'outageIndicator': 'N',\n",
       "   'peakIndicator': 'OFF',\n",
       "   'value': '0.1096',\n",
       "   'startDateTime': '2021-02-21 02:00',\n",
       "   'endDateTime': '2021-02-21 03:00',\n",
       "   'status': 'ACTUAL',\n",
       "   'minIntervalLength': '15',\n",
       "   'seasonIndicator': 'WIN-10-05',\n",
       "   'frequencyField': '60',\n",
       "   'serviceMeasurementTypeCode': 'KWH_DEL'},\n",
       "  {'dataDelayedIndicator': False,\n",
       "   'outageIndicator': 'N',\n",
       "   'peakIndicator': 'OFF',\n",
       "   'value': '0.1397',\n",
       "   'startDateTime': '2021-02-21 03:00',\n",
       "   'endDateTime': '2021-02-21 04:00',\n",
       "   'status': 'ACTUAL',\n",
       "   'minIntervalLength': '15',\n",
       "   'seasonIndicator': 'WIN-10-05',\n",
       "   'frequencyField': '60',\n",
       "   'serviceMeasurementTypeCode': 'KWH_DEL'},\n",
       "  {'dataDelayedIndicator': False,\n",
       "   'outageIndicator': 'N',\n",
       "   'peakIndicator': 'OFF',\n",
       "   'value': '0.0996',\n",
       "   'startDateTime': '2021-02-21 04:00',\n",
       "   'endDateTime': '2021-02-21 05:00',\n",
       "   'status': 'ACTUAL',\n",
       "   'minIntervalLength': '15',\n",
       "   'seasonIndicator': 'WIN-10-05',\n",
       "   'frequencyField': '60',\n",
       "   'serviceMeasurementTypeCode': 'KWH_DEL'},\n",
       "  {'dataDelayedIndicator': False,\n",
       "   'outageIndicator': 'N',\n",
       "   'peakIndicator': 'OFF',\n",
       "   'value': '0.1296',\n",
       "   'startDateTime': '2021-02-21 05:00',\n",
       "   'endDateTime': '2021-02-21 06:00',\n",
       "   'status': 'ACTUAL',\n",
       "   'minIntervalLength': '15',\n",
       "   'seasonIndicator': 'WIN-10-05',\n",
       "   'frequencyField': '60',\n",
       "   'serviceMeasurementTypeCode': 'KWH_DEL'},\n",
       "  {'dataDelayedIndicator': False,\n",
       "   'outageIndicator': 'N',\n",
       "   'peakIndicator': 'OFF',\n",
       "   'value': '0.0996',\n",
       "   'startDateTime': '2021-02-21 06:00',\n",
       "   'endDateTime': '2021-02-21 07:00',\n",
       "   'status': 'ACTUAL',\n",
       "   'minIntervalLength': '15',\n",
       "   'seasonIndicator': 'WIN-10-05',\n",
       "   'frequencyField': '60',\n",
       "   'serviceMeasurementTypeCode': 'KWH_DEL'},\n",
       "  {'dataDelayedIndicator': False,\n",
       "   'outageIndicator': 'N',\n",
       "   'peakIndicator': 'OFF',\n",
       "   'value': '0.0896',\n",
       "   'startDateTime': '2021-02-21 07:00',\n",
       "   'endDateTime': '2021-02-21 08:00',\n",
       "   'status': 'ACTUAL',\n",
       "   'minIntervalLength': '15',\n",
       "   'seasonIndicator': 'WIN-10-05',\n",
       "   'frequencyField': '60',\n",
       "   'serviceMeasurementTypeCode': 'KWH_DEL'},\n",
       "  {'dataDelayedIndicator': False,\n",
       "   'outageIndicator': 'N',\n",
       "   'peakIndicator': 'SOF',\n",
       "   'value': '0.0696',\n",
       "   'startDateTime': '2021-02-21 08:00',\n",
       "   'endDateTime': '2021-02-21 09:00',\n",
       "   'status': 'ACTUAL',\n",
       "   'minIntervalLength': '15',\n",
       "   'seasonIndicator': 'WIN-10-05',\n",
       "   'frequencyField': '60',\n",
       "   'serviceMeasurementTypeCode': 'KWH_DEL'},\n",
       "  {'dataDelayedIndicator': False,\n",
       "   'outageIndicator': 'N',\n",
       "   'peakIndicator': 'SOF',\n",
       "   'value': '0.0696',\n",
       "   'startDateTime': '2021-02-21 09:00',\n",
       "   'endDateTime': '2021-02-21 10:00',\n",
       "   'status': 'ACTUAL',\n",
       "   'minIntervalLength': '15',\n",
       "   'seasonIndicator': 'WIN-10-05',\n",
       "   'frequencyField': '60',\n",
       "   'serviceMeasurementTypeCode': 'KWH_DEL'},\n",
       "  {'dataDelayedIndicator': False,\n",
       "   'outageIndicator': 'N',\n",
       "   'peakIndicator': 'SOF',\n",
       "   'value': '0.1097',\n",
       "   'startDateTime': '2021-02-21 10:00',\n",
       "   'endDateTime': '2021-02-21 11:00',\n",
       "   'status': 'ACTUAL',\n",
       "   'minIntervalLength': '15',\n",
       "   'seasonIndicator': 'WIN-10-05',\n",
       "   'frequencyField': '60',\n",
       "   'serviceMeasurementTypeCode': 'KWH_DEL'},\n",
       "  {'dataDelayedIndicator': False,\n",
       "   'outageIndicator': 'N',\n",
       "   'peakIndicator': 'SOF',\n",
       "   'value': '0.1998',\n",
       "   'startDateTime': '2021-02-21 11:00',\n",
       "   'endDateTime': '2021-02-21 12:00',\n",
       "   'status': 'ACTUAL',\n",
       "   'minIntervalLength': '15',\n",
       "   'seasonIndicator': 'WIN-10-05',\n",
       "   'frequencyField': '60',\n",
       "   'serviceMeasurementTypeCode': 'KWH_DEL'},\n",
       "  {'dataDelayedIndicator': False,\n",
       "   'outageIndicator': 'N',\n",
       "   'peakIndicator': 'SOF',\n",
       "   'value': '0.1699',\n",
       "   'startDateTime': '2021-02-21 12:00',\n",
       "   'endDateTime': '2021-02-21 13:00',\n",
       "   'status': 'ACTUAL',\n",
       "   'minIntervalLength': '15',\n",
       "   'seasonIndicator': 'WIN-10-05',\n",
       "   'frequencyField': '60',\n",
       "   'serviceMeasurementTypeCode': 'KWH_DEL'},\n",
       "  {'dataDelayedIndicator': False,\n",
       "   'outageIndicator': 'N',\n",
       "   'peakIndicator': 'SOF',\n",
       "   'value': '0.4799',\n",
       "   'startDateTime': '2021-02-21 13:00',\n",
       "   'endDateTime': '2021-02-21 14:00',\n",
       "   'status': 'ACTUAL',\n",
       "   'minIntervalLength': '15',\n",
       "   'seasonIndicator': 'WIN-10-05',\n",
       "   'frequencyField': '60',\n",
       "   'serviceMeasurementTypeCode': 'KWH_DEL'},\n",
       "  {'dataDelayedIndicator': False,\n",
       "   'outageIndicator': 'N',\n",
       "   'peakIndicator': 'SOF',\n",
       "   'value': '0.2496',\n",
       "   'startDateTime': '2021-02-21 14:00',\n",
       "   'endDateTime': '2021-02-21 15:00',\n",
       "   'status': 'ACTUAL',\n",
       "   'minIntervalLength': '15',\n",
       "   'seasonIndicator': 'WIN-10-05',\n",
       "   'frequencyField': '60',\n",
       "   'serviceMeasurementTypeCode': 'KWH_DEL'},\n",
       "  {'dataDelayedIndicator': False,\n",
       "   'outageIndicator': 'N',\n",
       "   'peakIndicator': 'SOF',\n",
       "   'value': '0.0596',\n",
       "   'startDateTime': '2021-02-21 15:00',\n",
       "   'endDateTime': '2021-02-21 16:00',\n",
       "   'status': 'ACTUAL',\n",
       "   'minIntervalLength': '15',\n",
       "   'seasonIndicator': 'WIN-10-05',\n",
       "   'frequencyField': '60',\n",
       "   'serviceMeasurementTypeCode': 'KWH_DEL'},\n",
       "  {'dataDelayedIndicator': False,\n",
       "   'outageIndicator': 'N',\n",
       "   'peakIndicator': 'SOF',\n",
       "   'value': '0.1097',\n",
       "   'startDateTime': '2021-02-21 16:00',\n",
       "   'endDateTime': '2021-02-21 17:00',\n",
       "   'status': 'ACTUAL',\n",
       "   'minIntervalLength': '15',\n",
       "   'seasonIndicator': 'WIN-10-05',\n",
       "   'frequencyField': '60',\n",
       "   'serviceMeasurementTypeCode': 'KWH_DEL'},\n",
       "  {'dataDelayedIndicator': False,\n",
       "   'outageIndicator': 'N',\n",
       "   'peakIndicator': 'MID',\n",
       "   'value': '0.1497',\n",
       "   'startDateTime': '2021-02-21 17:00',\n",
       "   'endDateTime': '2021-02-21 18:00',\n",
       "   'status': 'ACTUAL',\n",
       "   'minIntervalLength': '15',\n",
       "   'seasonIndicator': 'WIN-10-05',\n",
       "   'frequencyField': '60',\n",
       "   'serviceMeasurementTypeCode': 'KWH_DEL'},\n",
       "  {'dataDelayedIndicator': False,\n",
       "   'outageIndicator': 'N',\n",
       "   'peakIndicator': 'MID',\n",
       "   'value': '0.4797',\n",
       "   'startDateTime': '2021-02-21 18:00',\n",
       "   'endDateTime': '2021-02-21 19:00',\n",
       "   'status': 'ACTUAL',\n",
       "   'minIntervalLength': '15',\n",
       "   'seasonIndicator': 'WIN-10-05',\n",
       "   'frequencyField': '60',\n",
       "   'serviceMeasurementTypeCode': 'KWH_DEL'},\n",
       "  {'dataDelayedIndicator': False,\n",
       "   'outageIndicator': 'N',\n",
       "   'peakIndicator': 'MID',\n",
       "   'value': '0.7498',\n",
       "   'startDateTime': '2021-02-21 19:00',\n",
       "   'endDateTime': '2021-02-21 20:00',\n",
       "   'status': 'ACTUAL',\n",
       "   'minIntervalLength': '15',\n",
       "   'seasonIndicator': 'WIN-10-05',\n",
       "   'frequencyField': '60',\n",
       "   'serviceMeasurementTypeCode': 'KWH_DEL'},\n",
       "  {'dataDelayedIndicator': False,\n",
       "   'outageIndicator': 'N',\n",
       "   'peakIndicator': 'OFF',\n",
       "   'value': '0.4898',\n",
       "   'startDateTime': '2021-02-21 20:00',\n",
       "   'endDateTime': '2021-02-21 21:00',\n",
       "   'status': 'ACTUAL',\n",
       "   'minIntervalLength': '15',\n",
       "   'seasonIndicator': 'WIN-10-05',\n",
       "   'frequencyField': '60',\n",
       "   'serviceMeasurementTypeCode': 'KWH_DEL'},\n",
       "  {'dataDelayedIndicator': False,\n",
       "   'outageIndicator': 'N',\n",
       "   'peakIndicator': 'OFF',\n",
       "   'value': '0.3798',\n",
       "   'startDateTime': '2021-02-21 21:00',\n",
       "   'endDateTime': '2021-02-21 22:00',\n",
       "   'status': 'ACTUAL',\n",
       "   'minIntervalLength': '15',\n",
       "   'seasonIndicator': 'WIN-10-05',\n",
       "   'frequencyField': '60',\n",
       "   'serviceMeasurementTypeCode': 'KWH_DEL'},\n",
       "  {'dataDelayedIndicator': False,\n",
       "   'outageIndicator': 'N',\n",
       "   'peakIndicator': 'OFF',\n",
       "   'value': '0.3299',\n",
       "   'startDateTime': '2021-02-21 22:00',\n",
       "   'endDateTime': '2021-02-21 23:00',\n",
       "   'status': 'ACTUAL',\n",
       "   'minIntervalLength': '15',\n",
       "   'seasonIndicator': 'WIN-10-05',\n",
       "   'frequencyField': '60',\n",
       "   'serviceMeasurementTypeCode': 'KWH_DEL'},\n",
       "  {'dataDelayedIndicator': False,\n",
       "   'outageIndicator': 'N',\n",
       "   'peakIndicator': 'OFF',\n",
       "   'value': '0.24',\n",
       "   'startDateTime': '2021-02-21 23:00',\n",
       "   'endDateTime': '2021-02-22 00:00',\n",
       "   'status': 'ACTUAL',\n",
       "   'minIntervalLength': '15',\n",
       "   'seasonIndicator': 'WIN-10-05',\n",
       "   'frequencyField': '60',\n",
       "   'serviceMeasurementTypeCode': 'KWH_DEL'}]}"
      ]
     },
     "execution_count": 18,
     "metadata": {},
     "output_type": "execute_result"
    }
   ],
   "source": [
    "data"
   ]
  },
  {
   "cell_type": "code",
   "execution_count": 19,
   "metadata": {},
   "outputs": [],
   "source": [
    "driver.get('https://www.sce.com/mysce/myaccount')"
   ]
  },
  {
   "cell_type": "code",
   "execution_count": 20,
   "metadata": {},
   "outputs": [
    {
     "name": "stdout",
     "output_type": "stream",
     "text": [
      "no popup\n"
     ]
    }
   ],
   "source": [
    "try:\n",
    "    driver.find_element_by_id('Combined-Shape').click()    \n",
    "except:\n",
    "    print('no popup')"
   ]
  },
  {
   "cell_type": "code",
   "execution_count": 21,
   "metadata": {},
   "outputs": [],
   "source": [
    "driver.find_element_by_class_name('fa-user').click()"
   ]
  },
  {
   "cell_type": "code",
   "execution_count": 22,
   "metadata": {},
   "outputs": [],
   "source": [
    "driver.find_element_by_class_name('sceButton__sceBtnSmDefault__1hmG2').click()"
   ]
  },
  {
   "cell_type": "code",
   "execution_count": 23,
   "metadata": {},
   "outputs": [],
   "source": [
    "driver.quit()"
   ]
  },
  {
   "cell_type": "code",
   "execution_count": null,
   "metadata": {},
   "outputs": [],
   "source": []
  },
  {
   "cell_type": "code",
   "execution_count": null,
   "metadata": {},
   "outputs": [],
   "source": []
  }
 ],
 "metadata": {
  "kernelspec": {
   "display_name": "Python 3",
   "language": "python",
   "name": "python3"
  },
  "language_info": {
   "codemirror_mode": {
    "name": "ipython",
    "version": 3
   },
   "file_extension": ".py",
   "mimetype": "text/x-python",
   "name": "python",
   "nbconvert_exporter": "python",
   "pygments_lexer": "ipython3",
   "version": "3.8.5"
  }
 },
 "nbformat": 4,
 "nbformat_minor": 4
}
