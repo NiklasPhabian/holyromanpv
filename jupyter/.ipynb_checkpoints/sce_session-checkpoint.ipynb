{
 "cells": [
  {
   "cell_type": "code",
   "execution_count": 1,
   "metadata": {},
   "outputs": [],
   "source": [
    "import sys\n",
    "sys.path.insert(0, '../holyromanpv/')\n",
    "import sce_session"
   ]
  },
  {
   "cell_type": "code",
   "execution_count": 2,
   "metadata": {},
   "outputs": [],
   "source": [
    "username = 'griessbaum@gmail.com'\n",
    "password = '6SDuUqH96G5zP$Z'\n",
    "account = '50348745'"
   ]
  },
  {
   "cell_type": "code",
   "execution_count": 3,
   "metadata": {},
   "outputs": [],
   "source": [
    "session = sce_session.SCESession(username=username, \n",
    "                                 password=password,\n",
    "                                 account=account)"
   ]
  },
  {
   "cell_type": "code",
   "execution_count": 4,
   "metadata": {
    "scrolled": true
   },
   "outputs": [
    {
     "name": "stdout",
     "output_type": "stream",
     "text": [
      "no_popup\n"
     ]
    },
    {
     "data": {
      "text/plain": [
       "True"
      ]
     },
     "execution_count": 4,
     "metadata": {},
     "output_type": "execute_result"
    }
   ],
   "source": [
    "session.login()"
   ]
  },
  {
   "cell_type": "code",
   "execution_count": 5,
   "metadata": {
    "scrolled": false
   },
   "outputs": [
    {
     "name": "stdout",
     "output_type": "stream",
     "text": [
      "no_popup\n"
     ]
    }
   ],
   "source": [
    "session.make_requests_session()"
   ]
  },
  {
   "cell_type": "code",
   "execution_count": 6,
   "metadata": {
    "scrolled": false
   },
   "outputs": [
    {
     "data": {
      "text/html": [
       "<div>\n",
       "<style scoped>\n",
       "    .dataframe tbody tr th:only-of-type {\n",
       "        vertical-align: middle;\n",
       "    }\n",
       "\n",
       "    .dataframe tbody tr th {\n",
       "        vertical-align: top;\n",
       "    }\n",
       "\n",
       "    .dataframe thead th {\n",
       "        text-align: right;\n",
       "    }\n",
       "</style>\n",
       "<table border=\"1\" class=\"dataframe\">\n",
       "  <thead>\n",
       "    <tr style=\"text-align: right;\">\n",
       "      <th></th>\n",
       "      <th>power</th>\n",
       "    </tr>\n",
       "    <tr>\n",
       "      <th>timestamp</th>\n",
       "      <th></th>\n",
       "    </tr>\n",
       "  </thead>\n",
       "  <tbody>\n",
       "    <tr>\n",
       "      <th>2021-03-11 00:00:00</th>\n",
       "      <td>0.20</td>\n",
       "    </tr>\n",
       "    <tr>\n",
       "      <th>2021-03-11 01:00:00</th>\n",
       "      <td>0.20</td>\n",
       "    </tr>\n",
       "    <tr>\n",
       "      <th>2021-03-11 02:00:00</th>\n",
       "      <td>0.20</td>\n",
       "    </tr>\n",
       "    <tr>\n",
       "      <th>2021-03-11 03:00:00</th>\n",
       "      <td>0.19</td>\n",
       "    </tr>\n",
       "    <tr>\n",
       "      <th>2021-03-11 04:00:00</th>\n",
       "      <td>0.25</td>\n",
       "    </tr>\n",
       "    <tr>\n",
       "      <th>2021-03-11 05:00:00</th>\n",
       "      <td>0.24</td>\n",
       "    </tr>\n",
       "    <tr>\n",
       "      <th>2021-03-11 06:00:00</th>\n",
       "      <td>0.24</td>\n",
       "    </tr>\n",
       "    <tr>\n",
       "      <th>2021-03-11 07:00:00</th>\n",
       "      <td>0.47</td>\n",
       "    </tr>\n",
       "    <tr>\n",
       "      <th>2021-03-11 08:00:00</th>\n",
       "      <td>0.64</td>\n",
       "    </tr>\n",
       "    <tr>\n",
       "      <th>2021-03-11 09:00:00</th>\n",
       "      <td>0.63</td>\n",
       "    </tr>\n",
       "    <tr>\n",
       "      <th>2021-03-11 10:00:00</th>\n",
       "      <td>0.46</td>\n",
       "    </tr>\n",
       "    <tr>\n",
       "      <th>2021-03-11 11:00:00</th>\n",
       "      <td>0.37</td>\n",
       "    </tr>\n",
       "    <tr>\n",
       "      <th>2021-03-11 12:00:00</th>\n",
       "      <td>1.04</td>\n",
       "    </tr>\n",
       "    <tr>\n",
       "      <th>2021-03-11 13:00:00</th>\n",
       "      <td>0.82</td>\n",
       "    </tr>\n",
       "    <tr>\n",
       "      <th>2021-03-11 14:00:00</th>\n",
       "      <td>0.59</td>\n",
       "    </tr>\n",
       "    <tr>\n",
       "      <th>2021-03-11 15:00:00</th>\n",
       "      <td>0.42</td>\n",
       "    </tr>\n",
       "    <tr>\n",
       "      <th>2021-03-11 16:00:00</th>\n",
       "      <td>0.49</td>\n",
       "    </tr>\n",
       "    <tr>\n",
       "      <th>2021-03-11 17:00:00</th>\n",
       "      <td>0.38</td>\n",
       "    </tr>\n",
       "    <tr>\n",
       "      <th>2021-03-11 18:00:00</th>\n",
       "      <td>0.44</td>\n",
       "    </tr>\n",
       "    <tr>\n",
       "      <th>2021-03-11 19:00:00</th>\n",
       "      <td>0.70</td>\n",
       "    </tr>\n",
       "    <tr>\n",
       "      <th>2021-03-11 20:00:00</th>\n",
       "      <td>0.92</td>\n",
       "    </tr>\n",
       "    <tr>\n",
       "      <th>2021-03-11 21:00:00</th>\n",
       "      <td>0.91</td>\n",
       "    </tr>\n",
       "    <tr>\n",
       "      <th>2021-03-11 22:00:00</th>\n",
       "      <td>0.49</td>\n",
       "    </tr>\n",
       "    <tr>\n",
       "      <th>2021-03-11 23:00:00</th>\n",
       "      <td>0.23</td>\n",
       "    </tr>\n",
       "  </tbody>\n",
       "</table>\n",
       "</div>"
      ],
      "text/plain": [
       "                     power\n",
       "timestamp                 \n",
       "2021-03-11 00:00:00   0.20\n",
       "2021-03-11 01:00:00   0.20\n",
       "2021-03-11 02:00:00   0.20\n",
       "2021-03-11 03:00:00   0.19\n",
       "2021-03-11 04:00:00   0.25\n",
       "2021-03-11 05:00:00   0.24\n",
       "2021-03-11 06:00:00   0.24\n",
       "2021-03-11 07:00:00   0.47\n",
       "2021-03-11 08:00:00   0.64\n",
       "2021-03-11 09:00:00   0.63\n",
       "2021-03-11 10:00:00   0.46\n",
       "2021-03-11 11:00:00   0.37\n",
       "2021-03-11 12:00:00   1.04\n",
       "2021-03-11 13:00:00   0.82\n",
       "2021-03-11 14:00:00   0.59\n",
       "2021-03-11 15:00:00   0.42\n",
       "2021-03-11 16:00:00   0.49\n",
       "2021-03-11 17:00:00   0.38\n",
       "2021-03-11 18:00:00   0.44\n",
       "2021-03-11 19:00:00   0.70\n",
       "2021-03-11 20:00:00   0.92\n",
       "2021-03-11 21:00:00   0.91\n",
       "2021-03-11 22:00:00   0.49\n",
       "2021-03-11 23:00:00   0.23"
      ]
     },
     "execution_count": 6,
     "metadata": {},
     "output_type": "execute_result"
    }
   ],
   "source": [
    "date = '2021-03-11'\n",
    "data = session.download(date)\n",
    "data"
   ]
  },
  {
   "cell_type": "code",
   "execution_count": 7,
   "metadata": {},
   "outputs": [
    {
     "name": "stdout",
     "output_type": "stream",
     "text": [
      "no_popup\n",
      "Message: element click intercepted: Element <button type=\"button\" class=\"sceButton__sceBtnSmDefault__1hmG2\" id=\"\">...</button> is not clickable at point (1397, 165). Other element would receive the click: <div class=\"fsrAbandonButton fsrModalBackdrop\" id=\"fsrFullScreenContainer\" data-isbackdrop=\"true\">...</div>\n",
      "  (Session info: headless chrome=89.0.4389.90)\n",
      "\n",
      "could not log out\n"
     ]
    }
   ],
   "source": [
    "session.logout()\n",
    "session.quit()"
   ]
  },
  {
   "cell_type": "code",
   "execution_count": null,
   "metadata": {},
   "outputs": [],
   "source": []
  }
 ],
 "metadata": {
  "kernelspec": {
   "display_name": "Python 3",
   "language": "python",
   "name": "python3"
  },
  "language_info": {
   "codemirror_mode": {
    "name": "ipython",
    "version": 3
   },
   "file_extension": ".py",
   "mimetype": "text/x-python",
   "name": "python",
   "nbconvert_exporter": "python",
   "pygments_lexer": "ipython3",
   "version": "3.8.5"
  }
 },
 "nbformat": 4,
 "nbformat_minor": 4
}
