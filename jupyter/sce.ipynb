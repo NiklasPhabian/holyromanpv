{
 "cells": [
  {
   "cell_type": "code",
   "execution_count": 1,
   "metadata": {},
   "outputs": [],
   "source": [
    "import requests\n",
    "import uuid\n",
    "import datetime\n",
    "import json"
   ]
  },
  {
   "cell_type": "code",
   "execution_count": 2,
   "metadata": {},
   "outputs": [
    {
     "data": {
      "text/plain": [
       "<Response [200]>"
      ]
     },
     "execution_count": 2,
     "metadata": {},
     "output_type": "execute_result"
    }
   ],
   "source": [
    "session = requests.Session()\n",
    "session.get('https://www.sce.com/mysce/login')"
   ]
  },
  {
   "cell_type": "code",
   "execution_count": 3,
   "metadata": {},
   "outputs": [],
   "source": [
    "session.headers['referer'] = 'https://www.sce.com/mysce/login'\n",
    "user_agent = 'Mozilla/5.0 (X11; Ubuntu; Linux x86_64; rv:63.0) Gecko/20100101 Firefox/63.0'\n",
    "session.headers['User-Agent'] = user_agent\n",
    "session.headers['content-type'] = 'application/json'\n",
    "#session.headers['origin'] = 'https://www.sce.com'\n",
    "#session.headers['sec-fetch-dest'] = 'empty'\n",
    "#session.headers['sec-fetch-mode'] = 'cors'\n",
    "#session.headers['sec-fetch-site'] = 'same-site'\n",
    "#session.headers['jsnlog-requestid'] = ''\n",
    "#session.headers['accept-encoding'] ='gzip, deflate, br'\n",
    "#session.headers['accept'] = '*/*'\n",
    "\n",
    "#1596136921541\n",
    "#u: \"595fee91-e907-489c-8f58-acbd65215b45\"\n",
    "\n",
    "\n",
    "t = round(datetime.datetime.now().timestamp()*1000)\n",
    "u = str(uuid.uuid4())\n",
    "payload = {'r': '', \n",
    "           'lg':[{'l': 3000,\n",
    "                  'm': '{\"name\":\"Login\",\"status\":\"Started\",\"email\":\"griessbaum@gmail.com\"}',\n",
    "                  'n': 'tracker',\n",
    "                  't': t,\n",
    "                  'u': u,\n",
    "                  'dmsGuid':'',\n",
    "                  'oktaSessionExpiresAtoktaSessionId': '',\n",
    "                  'oktaSessionToken': '',\n",
    "                  'oktaUid': ''}]}\n",
    "payload = json.dumps(payload)"
   ]
  },
  {
   "cell_type": "code",
   "execution_count": 4,
   "metadata": {},
   "outputs": [
    {
     "data": {
      "text/plain": [
       "<Response [200]>"
      ]
     },
     "execution_count": 4,
     "metadata": {},
     "output_type": "execute_result"
    }
   ],
   "source": [
    "session.options('https://prodms.dms.sce.com/logger/v1/log')"
   ]
  },
  {
   "cell_type": "code",
   "execution_count": 5,
   "metadata": {},
   "outputs": [
    {
     "data": {
      "text/plain": [
       "<Response [200]>"
      ]
     },
     "execution_count": 5,
     "metadata": {},
     "output_type": "execute_result"
    }
   ],
   "source": [
    "session.options('https://prodms.dms.sce.com/security/v2/login')"
   ]
  },
  {
   "cell_type": "code",
   "execution_count": 6,
   "metadata": {},
   "outputs": [],
   "source": [
    "url = 'https://prodms.dms.sce.com/logger/v1/log'\n",
    "ret = session.post(url=url, data=payload)"
   ]
  },
  {
   "cell_type": "code",
   "execution_count": 7,
   "metadata": {},
   "outputs": [],
   "source": [
    "username = 'griessbaum@gmail.com'\n",
    "password = '6SDuUqH96G5zP$Z_'"
   ]
  },
  {
   "cell_type": "code",
   "execution_count": 8,
   "metadata": {},
   "outputs": [],
   "source": [
    "payload = {\"payload\":\"K4AWC6Xgbg9QWgEvVcawj4cptBPaSwuFyVGs9rM+SBTgS8a0XQLZEd8bNijovnOAoGVKvmhHhxWLAE/41VNOPiF4OUwP/lhltkWsFu29SJfyQSbU72S2KB+D73qgddDB\",\n",
    "           \"hmac\":\"5bd8219981f225b657127ebac1e08ad12005ddaded71f3d34fdbe195b5906056\"}\n",
    "payload = json.dumps(payload)\n",
    "url ='https://prodms.dms.sce.com/security/v2/login'\n",
    "ret = session.post(url, data=payload)"
   ]
  },
  {
   "cell_type": "code",
   "execution_count": 9,
   "metadata": {},
   "outputs": [
    {
     "data": {
      "text/plain": [
       "<Response [200]>"
      ]
     },
     "execution_count": 9,
     "metadata": {},
     "output_type": "execute_result"
    }
   ],
   "source": [
    "url = 'https://www.sce.com/redirect-page'\n",
    "session.get(url)"
   ]
  },
  {
   "cell_type": "code",
   "execution_count": 10,
   "metadata": {},
   "outputs": [
    {
     "data": {
      "text/plain": [
       "<Response [404]>"
      ]
     },
     "execution_count": 10,
     "metadata": {},
     "output_type": "execute_result"
    }
   ],
   "source": [
    "# me\n",
    "url = 'https://okta.sce.com/api/v1/sessions/me'\n",
    "session.options(url)\n",
    "session.get(url)"
   ]
  },
  {
   "cell_type": "code",
   "execution_count": 11,
   "metadata": {},
   "outputs": [
    {
     "data": {
      "text/plain": [
       "<Response [400]>"
      ]
     },
     "execution_count": 11,
     "metadata": {},
     "output_type": "execute_result"
    }
   ],
   "source": [
    "url ='https://prodms.dms.sce.com/security/v2/session/activate'\n",
    "session.options(url)\n",
    "\n",
    "payload = {\"dmsGuid\":\"0D11262BA68C4850BD6CD8703A0AEB63\",\n",
    "           \"oktaSessionId\":\"102VRbzKEMzQw6oNR8Ab6bRKQ\",\n",
    "           \"oktaSessionExpiresAt\":\"2020-07-31T14:21:58.000Z\",\n",
    "           \"oktaUid\":\"00u2jpjoijDCnMNev1t7\",\n",
    "           \"oktaSessionToken\":\"20111_AeahJQSLLNyiCByX6JWKXpmjVRUQ-BLuO8FSAXcetNX64BVNB\"}\n",
    "session.post(url)"
   ]
  },
  {
   "cell_type": "code",
   "execution_count": 14,
   "metadata": {},
   "outputs": [
    {
     "data": {
      "text/plain": [
       "<Response [200]>"
      ]
     },
     "execution_count": 14,
     "metadata": {},
     "output_type": "execute_result"
    }
   ],
   "source": [
    "ret = session.get('https://www.sce.com/mysce/myaccount')\n",
    "ret"
   ]
  },
  {
   "cell_type": "code",
   "execution_count": null,
   "metadata": {
    "scrolled": false
   },
   "outputs": [],
   "source": [
    "with open ('account.htm', 'w') as html:\n",
    "    html.write(ret.text)"
   ]
  },
  {
   "cell_type": "code",
   "execution_count": 18,
   "metadata": {},
   "outputs": [
    {
     "name": "stdout",
     "output_type": "stream",
     "text": [
      "?serviceAccountNumber=50348745&period=60&usageDemandIndicator=usage&startDate=2020-07-13%2012:02&endDate=2020-07-13%2012:02&numberOfDays=4&lastBillEndDate=2020-01-22&nemFlag=N&statementNumber=NA\n"
     ]
    }
   ],
   "source": [
    "start = '2020-07-13'\n",
    "end =  start\n",
    "account = 50348745\n",
    "period = 60\n",
    "trunk = 'https://prodms.dms.sce.com/myaccount/v1/usage'\n",
    "query = '?'\n",
    "query += 'serviceAccountNumber={account}&'\n",
    "query += 'period={period}&'\n",
    "query += 'usageDemandIndicator=usage&'\n",
    "query += 'startDate={start}%2012:02&'\n",
    "query += 'endDate={end}%2012:02&'\n",
    "query += 'numberOfDays=4&'\n",
    "query += 'lastBillEndDate=2020-01-22&'\n",
    "query += 'nemFlag=N&'\n",
    "query += 'statementNumber=NA'\n",
    "query = query.format(start=start, end=end, account=account, period=period)\n",
    "print(query)"
   ]
  },
  {
   "cell_type": "code",
   "execution_count": null,
   "metadata": {},
   "outputs": [],
   "source": [
    "session.options(trunk + query)\n",
    "ret = session.get(trunk + query)\n",
    "ret"
   ]
  }
 ],
 "metadata": {
  "kernelspec": {
   "display_name": "Python 3",
   "language": "python",
   "name": "python3"
  },
  "language_info": {
   "codemirror_mode": {
    "name": "ipython",
    "version": 3
   },
   "file_extension": ".py",
   "mimetype": "text/x-python",
   "name": "python",
   "nbconvert_exporter": "python",
   "pygments_lexer": "ipython3",
   "version": "3.8.5"
  }
 },
 "nbformat": 4,
 "nbformat_minor": 4
}
